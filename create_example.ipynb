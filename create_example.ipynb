{
 "cells": [
  {
   "cell_type": "markdown",
   "metadata": {},
   "source": [
    "# Create Boundary Conditions from NAQFC for RRFS-CMAQ\n",
    "\n",
    "To use:\n",
    " 1) First load the modules needed \n",
    " 2) Fix a RRFS met boundary condition file (this is a dummy file just to get the location and halo layers)\n",
    " 3) Create emissions for all months"
   ]
  },
  {
   "cell_type": "markdown",
   "metadata": {},
   "source": [
    "### Step 1"
   ]
  },
  {
   "cell_type": "code",
   "execution_count": null,
   "metadata": {},
   "outputs": [],
   "source": [
    "import regrid_naqfc_to_ufs as rnu\n",
    "import xarray as xr \n",
    "from numpy import arange\n",
    "import os"
   ]
  },
  {
   "cell_type": "markdown",
   "metadata": {},
   "source": [
    "### Step 2"
   ]
  },
  {
   "cell_type": "code",
   "execution_count": null,
   "metadata": {},
   "outputs": [],
   "source": [
    "rrfs_boundary = 'gfs_bndy.tile7.000.nc' # a RRFS MET BNDY FILE\n",
    "q = xr.open_dataset(rrfs_boundary)\n",
    "drop_vars = [n for n in q.data_vars if 'o3mr' not in n] # drops all variables except o3mr to create a dummy variable\n",
    "q.drop(drop_vars).rename({'o3mr_bottom':'o3_bottom','o3mr_top':'o3_top','o3mr_left':'o3_left','o3mr_right':'o3_right'}).to_netcdf('dummy_bndy.nc')"
   ]
  },
  {
   "cell_type": "markdown",
   "metadata": {},
   "source": [
    "### Step 3"
   ]
  },
  {
   "cell_type": "code",
   "execution_count": null,
   "metadata": {},
   "outputs": [],
   "source": [
    "months = [str(i).zfill(2) for i in arange(1,13)]\n",
    "output_path = 'lbcs_13_bndy'\n",
    "# check if path exists\n",
    "if not os.path.isdir(output_path): \n",
    "    os.makedirs(output_path)\n",
    "for m in months:\n",
    "    print('Processing month... ',m)\n",
    "    boundary_file = 'dummy_bndy.nc' # edit this to match the output in step 2\n",
    "    grid_file = 'lbcs_13/grid_spec.nc' # point to the grid_spec.nc from RRFS\n",
    "    naqfc_bndy_file = 'aqm_conus_12km_geos_2006{}_static_35L.ncf'.format(m) # NAQFC Boundary Condition\n",
    "    d = rnu.fix_all(boundary_file, naqfc_bndy_file, grid_fname=grid_file)\n",
    "    output_filename = os.path.join(output_path, 'gfs_bndy_chem_{}.tile7.000.nc'.format(m))\n",
    "    print('  Outputing to:',output_filename)\n",
    "    d.to_netcdf(output_filename)\n",
    "\n"
   ]
  }
 ],
 "metadata": {
  "kernelspec": {
   "display_name": "dev",
   "language": "python",
   "name": "dev"
  },
  "language_info": {
   "codemirror_mode": {
    "name": "ipython",
    "version": 3
   },
   "file_extension": ".py",
   "mimetype": "text/x-python",
   "name": "python",
   "nbconvert_exporter": "python",
   "pygments_lexer": "ipython3",
   "version": "3.9.2"
  }
 },
 "nbformat": 4,
 "nbformat_minor": 4
}
